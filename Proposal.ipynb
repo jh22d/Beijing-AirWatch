{
 "cells": [
  {
   "cell_type": "markdown",
   "id": "c0b3e211-2eb5-422b-8877-83d494ad9036",
   "metadata": {},
   "source": [
    "# Proposal"
   ]
  },
  {
   "cell_type": "code",
   "execution_count": 1,
   "id": "0ec88393-f4ed-4ba1-8bc5-4b9cf792ee32",
   "metadata": {},
   "outputs": [
    {
     "name": "stderr",
     "output_type": "stream",
     "text": [
      "Warning message in system(\"timedatectl\", intern = TRUE):\n",
      "“running command 'timedatectl' had status 1”\n",
      "── \u001b[1mAttaching packages\u001b[22m ─────────────────────────────────────── tidyverse 1.3.2 ──\n",
      "\u001b[32m✔\u001b[39m \u001b[34mggplot2\u001b[39m 3.3.6      \u001b[32m✔\u001b[39m \u001b[34mpurrr  \u001b[39m 0.3.4 \n",
      "\u001b[32m✔\u001b[39m \u001b[34mtibble \u001b[39m 3.1.8      \u001b[32m✔\u001b[39m \u001b[34mdplyr  \u001b[39m 1.0.10\n",
      "\u001b[32m✔\u001b[39m \u001b[34mtidyr  \u001b[39m 1.2.0      \u001b[32m✔\u001b[39m \u001b[34mstringr\u001b[39m 1.4.1 \n",
      "\u001b[32m✔\u001b[39m \u001b[34mreadr  \u001b[39m 2.1.2      \u001b[32m✔\u001b[39m \u001b[34mforcats\u001b[39m 0.5.2 \n",
      "── \u001b[1mConflicts\u001b[22m ────────────────────────────────────────── tidyverse_conflicts() ──\n",
      "\u001b[31m✖\u001b[39m \u001b[34mdplyr\u001b[39m::\u001b[32mfilter()\u001b[39m masks \u001b[34mstats\u001b[39m::filter()\n",
      "\u001b[31m✖\u001b[39m \u001b[34mdplyr\u001b[39m::\u001b[32mlag()\u001b[39m    masks \u001b[34mstats\u001b[39m::lag()\n",
      "\n",
      "Attaching package: ‘gridExtra’\n",
      "\n",
      "\n",
      "The following object is masked from ‘package:dplyr’:\n",
      "\n",
      "    combine\n",
      "\n",
      "\n",
      "\n",
      "Attaching package: ‘mltools’\n",
      "\n",
      "\n",
      "The following object is masked from ‘package:tidyr’:\n",
      "\n",
      "    replace_na\n",
      "\n",
      "\n",
      "Loading required package: Matrix\n",
      "\n",
      "\n",
      "Attaching package: ‘Matrix’\n",
      "\n",
      "\n",
      "The following objects are masked from ‘package:tidyr’:\n",
      "\n",
      "    expand, pack, unpack\n",
      "\n",
      "\n",
      "Loaded glmnet 4.1-4\n",
      "\n"
     ]
    }
   ],
   "source": [
    "# Load Necessary Libaries:\n",
    "library(broom)\n",
    "library(tidyverse)\n",
    "library(latex2exp)\n",
    "library(repr)\n",
    "library(digest)\n",
    "library(gridExtra)\n",
    "library(faraway)\n",
    "library(mltools)\n",
    "library(leaps)\n",
    "library(glmnet)\n",
    "library(cowplot)"
   ]
  },
  {
   "cell_type": "markdown",
   "id": "04adfc7c-2e30-4dad-b95f-2962cd2ad9a1",
   "metadata": {},
   "source": [
    "## 1. Introduction:  \n",
    "Air pollution has always been a major stressor to natural ecosystems and human health. Airborne particulate matter (PM) consists of a complex mixture of many chemical species, wherein PM 2.5 is particularly harmful due to its fine inhalable particles. Recent research states that long term exposure to PM2.5 will increase not only the cardiopulmonary problems but also the mortality of lung cancers (Xing, 2016). Due to this concern, our group have chosen the dataset that contains the hourly data of PM 2.5 concentration collected from the US Embassy in Beijing. The meteorological data from Beijing International Airport will also be included."
   ]
  },
  {
   "cell_type": "markdown",
   "id": "712c77ac-0063-4122-92c3-c9a4bc5479f8",
   "metadata": {},
   "source": [
    "## 2. Explorative Data Analysis:  "
   ]
  },
  {
   "cell_type": "markdown",
   "id": "8f9f4afb-b1d8-4e53-95dd-da9f075f9713",
   "metadata": {},
   "source": [
    "The original dataset contains 13 variables; we rephrase `year`,`month`,`day`,`hour`,`No` as a new `time` variable to better fit a regression model. This leaves us with 9 variables of interest after cleaning the data up:\n",
    "- `pm2.5`: PM2.5 concentration (ug/m^3)\n",
    "- `DEWP`: Dew Point (â„ƒ)\n",
    "- `TEMP`: Temperature (â„ƒ)\n",
    "- `PRES`: Pressure (hPa)\n",
    "- `cbwd`: Combined wind direction\n",
    "- `Iws`: Cumulated wind speed (m/s)\n",
    "- `Is`: Cumulated hours of snow\n",
    "- `Ir`: Cumulated hours of rain\n",
    "- `time`: an sequence of number from 1 to n whose order is defined by the pruned variables\n",
    "  \n",
    "Then, we take a simple random sample here with 1000 observations to estimate the population statistics of the variables of interest. "
   ]
  },
  {
   "cell_type": "code",
   "execution_count": 2,
   "id": "fd81277f-12ac-4ba1-830e-f48c784d2745",
   "metadata": {},
   "outputs": [
    {
     "data": {
      "text/html": [
       "<table class=\"dataframe\">\n",
       "<caption>A data.frame: 6 × 13</caption>\n",
       "<thead>\n",
       "\t<tr><th></th><th scope=col>No</th><th scope=col>year</th><th scope=col>month</th><th scope=col>day</th><th scope=col>hour</th><th scope=col>pm2.5</th><th scope=col>DEWP</th><th scope=col>TEMP</th><th scope=col>PRES</th><th scope=col>cbwd</th><th scope=col>Iws</th><th scope=col>Is</th><th scope=col>Ir</th></tr>\n",
       "\t<tr><th></th><th scope=col>&lt;int&gt;</th><th scope=col>&lt;int&gt;</th><th scope=col>&lt;int&gt;</th><th scope=col>&lt;int&gt;</th><th scope=col>&lt;int&gt;</th><th scope=col>&lt;int&gt;</th><th scope=col>&lt;int&gt;</th><th scope=col>&lt;dbl&gt;</th><th scope=col>&lt;dbl&gt;</th><th scope=col>&lt;chr&gt;</th><th scope=col>&lt;dbl&gt;</th><th scope=col>&lt;int&gt;</th><th scope=col>&lt;int&gt;</th></tr>\n",
       "</thead>\n",
       "<tbody>\n",
       "\t<tr><th scope=row>1</th><td>25</td><td>2010</td><td>1</td><td>2</td><td>0</td><td>129</td><td>-16</td><td>-4</td><td>1020</td><td>SE</td><td>1.79</td><td>0</td><td>0</td></tr>\n",
       "\t<tr><th scope=row>2</th><td>26</td><td>2010</td><td>1</td><td>2</td><td>1</td><td>148</td><td>-15</td><td>-4</td><td>1020</td><td>SE</td><td>2.68</td><td>0</td><td>0</td></tr>\n",
       "\t<tr><th scope=row>3</th><td>27</td><td>2010</td><td>1</td><td>2</td><td>2</td><td>159</td><td>-11</td><td>-5</td><td>1021</td><td>SE</td><td>3.57</td><td>0</td><td>0</td></tr>\n",
       "\t<tr><th scope=row>4</th><td>28</td><td>2010</td><td>1</td><td>2</td><td>3</td><td>181</td><td> -7</td><td>-5</td><td>1022</td><td>SE</td><td>5.36</td><td>1</td><td>0</td></tr>\n",
       "\t<tr><th scope=row>5</th><td>29</td><td>2010</td><td>1</td><td>2</td><td>4</td><td>138</td><td> -7</td><td>-5</td><td>1022</td><td>SE</td><td>6.25</td><td>2</td><td>0</td></tr>\n",
       "\t<tr><th scope=row>6</th><td>30</td><td>2010</td><td>1</td><td>2</td><td>5</td><td>109</td><td> -7</td><td>-6</td><td>1022</td><td>SE</td><td>7.14</td><td>3</td><td>0</td></tr>\n",
       "</tbody>\n",
       "</table>\n"
      ],
      "text/latex": [
       "A data.frame: 6 × 13\n",
       "\\begin{tabular}{r|lllllllllllll}\n",
       "  & No & year & month & day & hour & pm2.5 & DEWP & TEMP & PRES & cbwd & Iws & Is & Ir\\\\\n",
       "  & <int> & <int> & <int> & <int> & <int> & <int> & <int> & <dbl> & <dbl> & <chr> & <dbl> & <int> & <int>\\\\\n",
       "\\hline\n",
       "\t1 & 25 & 2010 & 1 & 2 & 0 & 129 & -16 & -4 & 1020 & SE & 1.79 & 0 & 0\\\\\n",
       "\t2 & 26 & 2010 & 1 & 2 & 1 & 148 & -15 & -4 & 1020 & SE & 2.68 & 0 & 0\\\\\n",
       "\t3 & 27 & 2010 & 1 & 2 & 2 & 159 & -11 & -5 & 1021 & SE & 3.57 & 0 & 0\\\\\n",
       "\t4 & 28 & 2010 & 1 & 2 & 3 & 181 &  -7 & -5 & 1022 & SE & 5.36 & 1 & 0\\\\\n",
       "\t5 & 29 & 2010 & 1 & 2 & 4 & 138 &  -7 & -5 & 1022 & SE & 6.25 & 2 & 0\\\\\n",
       "\t6 & 30 & 2010 & 1 & 2 & 5 & 109 &  -7 & -6 & 1022 & SE & 7.14 & 3 & 0\\\\\n",
       "\\end{tabular}\n"
      ],
      "text/markdown": [
       "\n",
       "A data.frame: 6 × 13\n",
       "\n",
       "| <!--/--> | No &lt;int&gt; | year &lt;int&gt; | month &lt;int&gt; | day &lt;int&gt; | hour &lt;int&gt; | pm2.5 &lt;int&gt; | DEWP &lt;int&gt; | TEMP &lt;dbl&gt; | PRES &lt;dbl&gt; | cbwd &lt;chr&gt; | Iws &lt;dbl&gt; | Is &lt;int&gt; | Ir &lt;int&gt; |\n",
       "|---|---|---|---|---|---|---|---|---|---|---|---|---|---|\n",
       "| 1 | 25 | 2010 | 1 | 2 | 0 | 129 | -16 | -4 | 1020 | SE | 1.79 | 0 | 0 |\n",
       "| 2 | 26 | 2010 | 1 | 2 | 1 | 148 | -15 | -4 | 1020 | SE | 2.68 | 0 | 0 |\n",
       "| 3 | 27 | 2010 | 1 | 2 | 2 | 159 | -11 | -5 | 1021 | SE | 3.57 | 0 | 0 |\n",
       "| 4 | 28 | 2010 | 1 | 2 | 3 | 181 |  -7 | -5 | 1022 | SE | 5.36 | 1 | 0 |\n",
       "| 5 | 29 | 2010 | 1 | 2 | 4 | 138 |  -7 | -5 | 1022 | SE | 6.25 | 2 | 0 |\n",
       "| 6 | 30 | 2010 | 1 | 2 | 5 | 109 |  -7 | -6 | 1022 | SE | 7.14 | 3 | 0 |\n",
       "\n"
      ],
      "text/plain": [
       "  No year month day hour pm2.5 DEWP TEMP PRES cbwd Iws  Is Ir\n",
       "1 25 2010 1     2   0    129   -16  -4   1020 SE   1.79 0  0 \n",
       "2 26 2010 1     2   1    148   -15  -4   1020 SE   2.68 0  0 \n",
       "3 27 2010 1     2   2    159   -11  -5   1021 SE   3.57 0  0 \n",
       "4 28 2010 1     2   3    181    -7  -5   1022 SE   5.36 1  0 \n",
       "5 29 2010 1     2   4    138    -7  -5   1022 SE   6.25 2  0 \n",
       "6 30 2010 1     2   5    109    -7  -6   1022 SE   7.14 3  0 "
      ]
     },
     "metadata": {},
     "output_type": "display_data"
    },
    {
     "data": {
      "text/html": [
       "<table class=\"dataframe\">\n",
       "<caption>A data.frame: 6 × 9</caption>\n",
       "<thead>\n",
       "\t<tr><th></th><th scope=col>pm2.5</th><th scope=col>DEWP</th><th scope=col>TEMP</th><th scope=col>PRES</th><th scope=col>cbwd</th><th scope=col>Iws</th><th scope=col>Is</th><th scope=col>Ir</th><th scope=col>time</th></tr>\n",
       "\t<tr><th></th><th scope=col>&lt;int&gt;</th><th scope=col>&lt;int&gt;</th><th scope=col>&lt;dbl&gt;</th><th scope=col>&lt;dbl&gt;</th><th scope=col>&lt;chr&gt;</th><th scope=col>&lt;dbl&gt;</th><th scope=col>&lt;int&gt;</th><th scope=col>&lt;int&gt;</th><th scope=col>&lt;dbl&gt;</th></tr>\n",
       "</thead>\n",
       "<tbody>\n",
       "\t<tr><th scope=row>1</th><td>129</td><td>-16</td><td>-4</td><td>1020</td><td>SE</td><td>1.79</td><td>0</td><td>0</td><td>1</td></tr>\n",
       "\t<tr><th scope=row>2</th><td>148</td><td>-15</td><td>-4</td><td>1020</td><td>SE</td><td>2.68</td><td>0</td><td>0</td><td>2</td></tr>\n",
       "\t<tr><th scope=row>3</th><td>159</td><td>-11</td><td>-5</td><td>1021</td><td>SE</td><td>3.57</td><td>0</td><td>0</td><td>3</td></tr>\n",
       "\t<tr><th scope=row>4</th><td>181</td><td> -7</td><td>-5</td><td>1022</td><td>SE</td><td>5.36</td><td>1</td><td>0</td><td>4</td></tr>\n",
       "\t<tr><th scope=row>5</th><td>138</td><td> -7</td><td>-5</td><td>1022</td><td>SE</td><td>6.25</td><td>2</td><td>0</td><td>5</td></tr>\n",
       "\t<tr><th scope=row>6</th><td>109</td><td> -7</td><td>-6</td><td>1022</td><td>SE</td><td>7.14</td><td>3</td><td>0</td><td>6</td></tr>\n",
       "</tbody>\n",
       "</table>\n"
      ],
      "text/latex": [
       "A data.frame: 6 × 9\n",
       "\\begin{tabular}{r|lllllllll}\n",
       "  & pm2.5 & DEWP & TEMP & PRES & cbwd & Iws & Is & Ir & time\\\\\n",
       "  & <int> & <int> & <dbl> & <dbl> & <chr> & <dbl> & <int> & <int> & <dbl>\\\\\n",
       "\\hline\n",
       "\t1 & 129 & -16 & -4 & 1020 & SE & 1.79 & 0 & 0 & 1\\\\\n",
       "\t2 & 148 & -15 & -4 & 1020 & SE & 2.68 & 0 & 0 & 2\\\\\n",
       "\t3 & 159 & -11 & -5 & 1021 & SE & 3.57 & 0 & 0 & 3\\\\\n",
       "\t4 & 181 &  -7 & -5 & 1022 & SE & 5.36 & 1 & 0 & 4\\\\\n",
       "\t5 & 138 &  -7 & -5 & 1022 & SE & 6.25 & 2 & 0 & 5\\\\\n",
       "\t6 & 109 &  -7 & -6 & 1022 & SE & 7.14 & 3 & 0 & 6\\\\\n",
       "\\end{tabular}\n"
      ],
      "text/markdown": [
       "\n",
       "A data.frame: 6 × 9\n",
       "\n",
       "| <!--/--> | pm2.5 &lt;int&gt; | DEWP &lt;int&gt; | TEMP &lt;dbl&gt; | PRES &lt;dbl&gt; | cbwd &lt;chr&gt; | Iws &lt;dbl&gt; | Is &lt;int&gt; | Ir &lt;int&gt; | time &lt;dbl&gt; |\n",
       "|---|---|---|---|---|---|---|---|---|---|\n",
       "| 1 | 129 | -16 | -4 | 1020 | SE | 1.79 | 0 | 0 | 1 |\n",
       "| 2 | 148 | -15 | -4 | 1020 | SE | 2.68 | 0 | 0 | 2 |\n",
       "| 3 | 159 | -11 | -5 | 1021 | SE | 3.57 | 0 | 0 | 3 |\n",
       "| 4 | 181 |  -7 | -5 | 1022 | SE | 5.36 | 1 | 0 | 4 |\n",
       "| 5 | 138 |  -7 | -5 | 1022 | SE | 6.25 | 2 | 0 | 5 |\n",
       "| 6 | 109 |  -7 | -6 | 1022 | SE | 7.14 | 3 | 0 | 6 |\n",
       "\n"
      ],
      "text/plain": [
       "  pm2.5 DEWP TEMP PRES cbwd Iws  Is Ir time\n",
       "1 129   -16  -4   1020 SE   1.79 0  0  1   \n",
       "2 148   -15  -4   1020 SE   2.68 0  0  2   \n",
       "3 159   -11  -5   1021 SE   3.57 0  0  3   \n",
       "4 181    -7  -5   1022 SE   5.36 1  0  4   \n",
       "5 138    -7  -5   1022 SE   6.25 2  0  5   \n",
       "6 109    -7  -6   1022 SE   7.14 3  0  6   "
      ]
     },
     "metadata": {},
     "output_type": "display_data"
    },
    {
     "data": {
      "text/html": [
       "<table class=\"dataframe\">\n",
       "<caption>A data.frame: 6 × 9</caption>\n",
       "<thead>\n",
       "\t<tr><th></th><th scope=col>pm2.5</th><th scope=col>DEWP</th><th scope=col>TEMP</th><th scope=col>PRES</th><th scope=col>cbwd</th><th scope=col>Iws</th><th scope=col>Is</th><th scope=col>Ir</th><th scope=col>time</th></tr>\n",
       "\t<tr><th></th><th scope=col>&lt;int&gt;</th><th scope=col>&lt;int&gt;</th><th scope=col>&lt;dbl&gt;</th><th scope=col>&lt;dbl&gt;</th><th scope=col>&lt;chr&gt;</th><th scope=col>&lt;dbl&gt;</th><th scope=col>&lt;int&gt;</th><th scope=col>&lt;int&gt;</th><th scope=col>&lt;dbl&gt;</th></tr>\n",
       "</thead>\n",
       "<tbody>\n",
       "\t<tr><th scope=row>1</th><td> 50</td><td> 12</td><td>27</td><td>1012</td><td>SE</td><td> 27.25</td><td>0</td><td>0</td><td>23179</td></tr>\n",
       "\t<tr><th scope=row>2</th><td>100</td><td> 10</td><td>11</td><td>1014</td><td>NW</td><td> 16.10</td><td>0</td><td>5</td><td>41610</td></tr>\n",
       "\t<tr><th scope=row>3</th><td> 18</td><td>  1</td><td>14</td><td>1003</td><td>NW</td><td> 17.88</td><td>0</td><td>0</td><td>20766</td></tr>\n",
       "\t<tr><th scope=row>4</th><td> 68</td><td>-16</td><td> 3</td><td>1024</td><td>SE</td><td>  5.37</td><td>0</td><td>0</td><td>43386</td></tr>\n",
       "\t<tr><th scope=row>5</th><td> 53</td><td>-20</td><td> 7</td><td>1013</td><td>NW</td><td>147.50</td><td>0</td><td>0</td><td>35042</td></tr>\n",
       "\t<tr><th scope=row>6</th><td> 83</td><td> 17</td><td>19</td><td>1008</td><td>SE</td><td> 12.97</td><td>0</td><td>6</td><td>38480</td></tr>\n",
       "</tbody>\n",
       "</table>\n"
      ],
      "text/latex": [
       "A data.frame: 6 × 9\n",
       "\\begin{tabular}{r|lllllllll}\n",
       "  & pm2.5 & DEWP & TEMP & PRES & cbwd & Iws & Is & Ir & time\\\\\n",
       "  & <int> & <int> & <dbl> & <dbl> & <chr> & <dbl> & <int> & <int> & <dbl>\\\\\n",
       "\\hline\n",
       "\t1 &  50 &  12 & 27 & 1012 & SE &  27.25 & 0 & 0 & 23179\\\\\n",
       "\t2 & 100 &  10 & 11 & 1014 & NW &  16.10 & 0 & 5 & 41610\\\\\n",
       "\t3 &  18 &   1 & 14 & 1003 & NW &  17.88 & 0 & 0 & 20766\\\\\n",
       "\t4 &  68 & -16 &  3 & 1024 & SE &   5.37 & 0 & 0 & 43386\\\\\n",
       "\t5 &  53 & -20 &  7 & 1013 & NW & 147.50 & 0 & 0 & 35042\\\\\n",
       "\t6 &  83 &  17 & 19 & 1008 & SE &  12.97 & 0 & 6 & 38480\\\\\n",
       "\\end{tabular}\n"
      ],
      "text/markdown": [
       "\n",
       "A data.frame: 6 × 9\n",
       "\n",
       "| <!--/--> | pm2.5 &lt;int&gt; | DEWP &lt;int&gt; | TEMP &lt;dbl&gt; | PRES &lt;dbl&gt; | cbwd &lt;chr&gt; | Iws &lt;dbl&gt; | Is &lt;int&gt; | Ir &lt;int&gt; | time &lt;dbl&gt; |\n",
       "|---|---|---|---|---|---|---|---|---|---|\n",
       "| 1 |  50 |  12 | 27 | 1012 | SE |  27.25 | 0 | 0 | 23179 |\n",
       "| 2 | 100 |  10 | 11 | 1014 | NW |  16.10 | 0 | 5 | 41610 |\n",
       "| 3 |  18 |   1 | 14 | 1003 | NW |  17.88 | 0 | 0 | 20766 |\n",
       "| 4 |  68 | -16 |  3 | 1024 | SE |   5.37 | 0 | 0 | 43386 |\n",
       "| 5 |  53 | -20 |  7 | 1013 | NW | 147.50 | 0 | 0 | 35042 |\n",
       "| 6 |  83 |  17 | 19 | 1008 | SE |  12.97 | 0 | 6 | 38480 |\n",
       "\n"
      ],
      "text/plain": [
       "  pm2.5 DEWP TEMP PRES cbwd Iws    Is Ir time \n",
       "1  50    12  27   1012 SE    27.25 0  0  23179\n",
       "2 100    10  11   1014 NW    16.10 0  5  41610\n",
       "3  18     1  14   1003 NW    17.88 0  0  20766\n",
       "4  68   -16   3   1024 SE     5.37 0  0  43386\n",
       "5  53   -20   7   1013 NW   147.50 0  0  35042\n",
       "6  83    17  19   1008 SE    12.97 0  6  38480"
      ]
     },
     "metadata": {},
     "output_type": "display_data"
    }
   ],
   "source": [
    "set.seed(3)\n",
    "### Load the entire data set into R frame & prune all NA rows\n",
    "PM2.5_data <- read.csv(file = \"https://archive.ics.uci.edu/ml/machine-learning-databases/00381/PRSA_data_2010.1.1-2014.12.31.csv\") %>%\n",
    "              drop_na()\n",
    "head(PM2.5_data)\n",
    "### Data Cleaning: \n",
    "### remove the year, month, day, hour, No columns, instead represent the time & order of the observation by labeling them from 1 to n\n",
    "PM2.5_data <- PM2.5_data %>%\n",
    "              mutate(time = No - 24) %>%\n",
    "              select(-c(No, year, month, day, hour))\n",
    "head(PM2.5_data)\n",
    "### take a sample of size n\n",
    "n = 1000\n",
    "PM2.5_sample <- PM2.5_data %>%\n",
    "                sample_n(size = n, replace = FALSE) # we do not want replicated observations in our sample\n",
    "head(PM2.5_sample)"
   ]
  },
  {
   "cell_type": "markdown",
   "id": "2359b254-8a4b-42b6-a16f-eee2320e2327",
   "metadata": {},
   "source": [
    "### 2.1 Summary Statistics:  \n",
    "The following table contains the values of estimators: mean, max, min, & standard deviation. We intend to use these estimator values to measure the spread & range of the continuous variables of intest.\n"
   ]
  },
  {
   "cell_type": "code",
   "execution_count": 3,
   "id": "288a61ea-832e-40cb-831a-34038511ed24",
   "metadata": {},
   "outputs": [
    {
     "data": {
      "text/html": [
       "<table class=\"dataframe\">\n",
       "<caption>A data.frame: 8 × 5</caption>\n",
       "<thead>\n",
       "\t<tr><th scope=col>variables</th><th scope=col>mean</th><th scope=col>max</th><th scope=col>min</th><th scope=col>sd</th></tr>\n",
       "\t<tr><th scope=col>&lt;chr&gt;</th><th scope=col>&lt;dbl&gt;</th><th scope=col>&lt;dbl&gt;</th><th scope=col>&lt;dbl&gt;</th><th scope=col>&lt;dbl&gt;</th></tr>\n",
       "</thead>\n",
       "<tbody>\n",
       "\t<tr><td>pm2.5</td><td>   96.54800</td><td>  649.00</td><td>  2.00</td><td>8.954573e+01</td></tr>\n",
       "\t<tr><td>DEWP </td><td>    2.00200</td><td>   26.00</td><td>-30.00</td><td>1.435124e+01</td></tr>\n",
       "\t<tr><td>time </td><td>23073.40100</td><td>43782.00</td><td> 48.00</td><td>1.275101e+04</td></tr>\n",
       "\t<tr><td>TEMP </td><td>   12.47300</td><td>   37.00</td><td>-16.00</td><td>1.178593e+01</td></tr>\n",
       "\t<tr><td>PRES </td><td> 1016.23200</td><td> 1045.00</td><td>993.00</td><td>1.013543e+01</td></tr>\n",
       "\t<tr><td>Iws  </td><td>   23.49938</td><td>  368.33</td><td>  0.45</td><td>4.700688e+01</td></tr>\n",
       "\t<tr><td>Is   </td><td>    0.06300</td><td>   17.00</td><td>  0.00</td><td>7.359161e-01</td></tr>\n",
       "\t<tr><td>Ir   </td><td>    0.23300</td><td>   31.00</td><td>  0.00</td><td>1.656338e+00</td></tr>\n",
       "</tbody>\n",
       "</table>\n"
      ],
      "text/latex": [
       "A data.frame: 8 × 5\n",
       "\\begin{tabular}{lllll}\n",
       " variables & mean & max & min & sd\\\\\n",
       " <chr> & <dbl> & <dbl> & <dbl> & <dbl>\\\\\n",
       "\\hline\n",
       "\t pm2.5 &    96.54800 &   649.00 &   2.00 & 8.954573e+01\\\\\n",
       "\t DEWP  &     2.00200 &    26.00 & -30.00 & 1.435124e+01\\\\\n",
       "\t time  & 23073.40100 & 43782.00 &  48.00 & 1.275101e+04\\\\\n",
       "\t TEMP  &    12.47300 &    37.00 & -16.00 & 1.178593e+01\\\\\n",
       "\t PRES  &  1016.23200 &  1045.00 & 993.00 & 1.013543e+01\\\\\n",
       "\t Iws   &    23.49938 &   368.33 &   0.45 & 4.700688e+01\\\\\n",
       "\t Is    &     0.06300 &    17.00 &   0.00 & 7.359161e-01\\\\\n",
       "\t Ir    &     0.23300 &    31.00 &   0.00 & 1.656338e+00\\\\\n",
       "\\end{tabular}\n"
      ],
      "text/markdown": [
       "\n",
       "A data.frame: 8 × 5\n",
       "\n",
       "| variables &lt;chr&gt; | mean &lt;dbl&gt; | max &lt;dbl&gt; | min &lt;dbl&gt; | sd &lt;dbl&gt; |\n",
       "|---|---|---|---|---|\n",
       "| pm2.5 |    96.54800 |   649.00 |   2.00 | 8.954573e+01 |\n",
       "| DEWP  |     2.00200 |    26.00 | -30.00 | 1.435124e+01 |\n",
       "| time  | 23073.40100 | 43782.00 |  48.00 | 1.275101e+04 |\n",
       "| TEMP  |    12.47300 |    37.00 | -16.00 | 1.178593e+01 |\n",
       "| PRES  |  1016.23200 |  1045.00 | 993.00 | 1.013543e+01 |\n",
       "| Iws   |    23.49938 |   368.33 |   0.45 | 4.700688e+01 |\n",
       "| Is    |     0.06300 |    17.00 |   0.00 | 7.359161e-01 |\n",
       "| Ir    |     0.23300 |    31.00 |   0.00 | 1.656338e+00 |\n",
       "\n"
      ],
      "text/plain": [
       "  variables mean        max      min    sd          \n",
       "1 pm2.5        96.54800   649.00   2.00 8.954573e+01\n",
       "2 DEWP          2.00200    26.00 -30.00 1.435124e+01\n",
       "3 time      23073.40100 43782.00  48.00 1.275101e+04\n",
       "4 TEMP         12.47300    37.00 -16.00 1.178593e+01\n",
       "5 PRES       1016.23200  1045.00 993.00 1.013543e+01\n",
       "6 Iws          23.49938   368.33   0.45 4.700688e+01\n",
       "7 Is            0.06300    17.00   0.00 7.359161e-01\n",
       "8 Ir            0.23300    31.00   0.00 1.656338e+00"
      ]
     },
     "metadata": {},
     "output_type": "display_data"
    }
   ],
   "source": [
    "### Calculate mean, max, min, SD for each variable present in the sample\n",
    "pm2.5 <- PM2.5_sample %>%\n",
    "         summarize(mean = mean(pm2.5), sd = sd(pm2.5), max = max(pm2.5), min = min(pm2.5))\n",
    "DEWP <-  PM2.5_sample %>%\n",
    "         summarize(mean = mean(DEWP), sd = sd(DEWP), max = max(DEWP), min = min(DEWP))\n",
    "time <- PM2.5_sample %>%\n",
    "         summarize(mean = mean(time), sd = sd(time), max = max(time), min = min(time))\n",
    "TEMP <- PM2.5_sample %>%\n",
    "        summarize(mean = mean(TEMP), sd = sd(TEMP), max = max(TEMP), min = min(TEMP))\n",
    "PRES <- PM2.5_sample %>%\n",
    "         summarize(mean = mean(PRES), sd = sd(PRES), max = max(PRES), min = min(PRES))\n",
    "Iws <- PM2.5_sample %>%\n",
    "         summarize(mean = mean(Iws), sd = sd(Iws), max = max(Iws), min = min(Iws))\n",
    "Is <- PM2.5_sample %>%\n",
    "         summarize(mean = mean(Is), sd = sd(Is), max = max(Is), min = min(Is))\n",
    "Ir <- PM2.5_sample %>%\n",
    "         summarize(mean = mean(Ir), sd = sd(Ir), max = max(Ir), min = min(Ir))\n",
    "Summary_Statistics_Table <- data.frame(variables = c(\"pm2.5\", \"DEWP\", \"time\", \"TEMP\", \"PRES\", \"Iws\", \"Is\", \"Ir\"),\n",
    "                                        mean = c(pm2.5$mean, DEWP$mean, time$mean, TEMP$mean, PRES$mean, Iws$mean, Is$mean, Ir$mean),\n",
    "                                        max = c(pm2.5$max, DEWP$max, time$max, TEMP$max, PRES$max, Iws$max, Is$max, Ir$max),\n",
    "                                       min = c(pm2.5$min, DEWP$min, time$min, TEMP$min, PRES$min, Iws$min, Is$min, Ir$min),\n",
    "                                      sd = c(pm2.5$sd, DEWP$sd, time$sd, TEMP$sd, PRES$sd, Iws$sd, Is$sd, Ir$sd))\n",
    "Summary_Statistics_Table"
   ]
  },
  {
   "cell_type": "markdown",
   "id": "d769cea8-b291-4d0d-aa13-0df8cf7d08a2",
   "metadata": {},
   "source": [
    "### 2.2 Testing for Multicollinarity:  \n",
    "Given that the multicollinearity present between input variables can affect both the estimates & especially the standard error associated with them, to detect the multicollinearity in our data, we take the following step to visualize the correlation between variables & calculate the VIF (variance inflation factor) for all possible input variables."
   ]
  },
  {
   "cell_type": "code",
   "execution_count": 6,
   "id": "60e8685b-a655-4e9c-ac1a-30e98b1f2f4a",
   "metadata": {},
   "outputs": [
    {
     "name": "stderr",
     "output_type": "stream",
     "text": [
      "Warning message:\n",
      "“'tidy.numeric' is deprecated.\n",
      "See help(\"Deprecated\")”\n"
     ]
    },
    {
     "data": {
      "text/html": [
       "<table class=\"dataframe\">\n",
       "<caption>A tibble: 10 × 2</caption>\n",
       "<thead>\n",
       "\t<tr><th scope=col>names</th><th scope=col>vif</th></tr>\n",
       "\t<tr><th scope=col>&lt;chr&gt;</th><th scope=col>&lt;dbl&gt;</th></tr>\n",
       "</thead>\n",
       "<tbody>\n",
       "\t<tr><td>DEWP  </td><td>3.621576</td></tr>\n",
       "\t<tr><td>TEMP  </td><td>4.689560</td></tr>\n",
       "\t<tr><td>PRES  </td><td>3.470609</td></tr>\n",
       "\t<tr><td>cbwdNE</td><td>1.373627</td></tr>\n",
       "\t<tr><td>cbwdNW</td><td>1.993390</td></tr>\n",
       "\t<tr><td>cbwdSE</td><td>1.860855</td></tr>\n",
       "\t<tr><td>Iws   </td><td>1.268260</td></tr>\n",
       "\t<tr><td>Is    </td><td>1.033323</td></tr>\n",
       "\t<tr><td>Ir    </td><td>1.034762</td></tr>\n",
       "\t<tr><td>time  </td><td>1.032067</td></tr>\n",
       "</tbody>\n",
       "</table>\n"
      ],
      "text/latex": [
       "A tibble: 10 × 2\n",
       "\\begin{tabular}{ll}\n",
       " names & vif\\\\\n",
       " <chr> & <dbl>\\\\\n",
       "\\hline\n",
       "\t DEWP   & 3.621576\\\\\n",
       "\t TEMP   & 4.689560\\\\\n",
       "\t PRES   & 3.470609\\\\\n",
       "\t cbwdNE & 1.373627\\\\\n",
       "\t cbwdNW & 1.993390\\\\\n",
       "\t cbwdSE & 1.860855\\\\\n",
       "\t Iws    & 1.268260\\\\\n",
       "\t Is     & 1.033323\\\\\n",
       "\t Ir     & 1.034762\\\\\n",
       "\t time   & 1.032067\\\\\n",
       "\\end{tabular}\n"
      ],
      "text/markdown": [
       "\n",
       "A tibble: 10 × 2\n",
       "\n",
       "| names &lt;chr&gt; | vif &lt;dbl&gt; |\n",
       "|---|---|\n",
       "| DEWP   | 3.621576 |\n",
       "| TEMP   | 4.689560 |\n",
       "| PRES   | 3.470609 |\n",
       "| cbwdNE | 1.373627 |\n",
       "| cbwdNW | 1.993390 |\n",
       "| cbwdSE | 1.860855 |\n",
       "| Iws    | 1.268260 |\n",
       "| Is     | 1.033323 |\n",
       "| Ir     | 1.034762 |\n",
       "| time   | 1.032067 |\n",
       "\n"
      ],
      "text/plain": [
       "   names  vif     \n",
       "1  DEWP   3.621576\n",
       "2  TEMP   4.689560\n",
       "3  PRES   3.470609\n",
       "4  cbwdNE 1.373627\n",
       "5  cbwdNW 1.993390\n",
       "6  cbwdSE 1.860855\n",
       "7  Iws    1.268260\n",
       "8  Is     1.033323\n",
       "9  Ir     1.034762\n",
       "10 time   1.032067"
      ]
     },
     "metadata": {},
     "output_type": "display_data"
    },
    {
     "data": {
      "image/png": "[encoded data removed]",
      "text/plain": [
       "plot without title"
      ]
     },
     "metadata": {
      "image/png": {
       "height": 420,
       "width": 420
      }
     },
     "output_type": "display_data"
    }
   ],
   "source": [
    "### Calculate Correlation for each pair of the continuous variable:\n",
    "corr_matrix <- PM2.5_sample %>%\n",
    "               select(- c(\"pm2.5\", \"cbwd\")) %>% \n",
    "               cor() %>%\n",
    "               as.data.frame() %>%\n",
    "               rownames_to_column(\"var1\") %>%\n",
    "               pivot_longer(-var1, names_to = \"var2\", values_to = \"corr\")\n",
    "### Visualisation using heatmap:\n",
    "plot_corr_matrix <- corr_matrix %>%\n",
    "   ggplot(aes(x = var1, y = var2)) +\n",
    "   geom_tile(aes(fill = corr), color = \"white\") + \n",
    "   scale_fill_distiller(\"Correlation Coefficient \\n\",\n",
    "     palette =  \"YlOrRd\",\n",
    "     direction = 1, limits = c(-1, 1)\n",
    "   ) +\n",
    "   labs(x = \"\", y = \"\") +\n",
    "   theme_minimal() +\n",
    "   theme(\n",
    "     axis.text.x = element_text(\n",
    "       angle = 45, vjust = 1,\n",
    "       size = 12, hjust = 1\n",
    "     ),\n",
    "     axis.text.y = element_text(\n",
    "       vjust = 1,\n",
    "       size = 12, hjust = 1\n",
    "     ),\n",
    "     legend.title = element_text(size = 12, face = \"bold\"),\n",
    "     legend.text = element_text(size = 12),\n",
    "     legend.key.size = unit(1, \"cm\")\n",
    "   ) +\n",
    "   coord_fixed() +\n",
    "   geom_text(aes(var1, var2, label = round(corr, 2)), color = \"black\", size = 4) + \n",
    "   ggtitle(\"Heatmap of Correlation of All Possible Response Variables\")\n",
    " plot_corr_matrix\n",
    "### Calculate vif: \n",
    "MLR_pm2.5 <- lm(pm2.5 ~ ., data = PM2.5_sample)\n",
    "VIF_pm2.5 <- vif(MLR_pm2.5)\n",
    "vif_pm2.5_tidy <- tidy(VIF_pm2.5) %>%\n",
    "                  mutate(vif = x) %>%\n",
    "                  select(-x)\n",
    "vif_pm2.5_tidy"
   ]
  },
  {
   "cell_type": "markdown",
   "id": "a577edaa-bc91-456a-9f5d-30fe27f46f85",
   "metadata": {},
   "source": [
    "As observed from the calculated vif values in the table above, `TEMP` variable has the highest vif value overall & is much greater than 1; thus, we might decide to prune this variable later in our project to address the multicollinearity problem in our data. "
   ]
  },
  {
   "cell_type": "markdown",
   "id": "175c743d-c293-4a38-a62c-3c92026d1b08",
   "metadata": {},
   "source": [
    "# 3. Plan:  \n",
    "Our group intends to make inference on the possible associations between the input variables (`DEWP`,`PRES`,`cbwd``Iws`,`Is`,`Ir`,`time`,`TEMP`) & the represonse varibale (`pm2.5`). To do so, we will perform the forward selection to find a good generative model with the largest adjusted $R^2$ found & use F-tests on different reduced models to test out the signifcance of each terms of our selected model. Then, we will focus on the quality of our results by testing the model against the linear regression assumptions (linarity, homoscedasticity, normality, etc.) & make adjustments when any violation is discovered. Finally, we will discuss on the limitation of our results & conclude our project by considering if any causality can be established from our inference. "
   ]
  },
  {
   "cell_type": "markdown",
   "id": "b6643b89-08f8-4cb8-9bcb-90dce23b5302",
   "metadata": {},
   "source": [
    "# 4. Reference:\n",
    "1. Xing, Y.-F., Xu, Y.-H., Shi, M.-H., & Lian, Y.-X. (2016, January). The impact of PM2.5 on the human respiratory system. Journal of thoracic disease. Retrieved November 5, 2022, from https://www.ncbi.nlm.nih.gov/pmc/articles/PMC4740125/"
   ]
  }
 ],
 "metadata": {
  "kernelspec": {
   "display_name": "R",
   "language": "R",
   "name": "ir"
  },
  "language_info": {
   "codemirror_mode": "r",
   "file_extension": ".r",
   "mimetype": "text/x-r-source",
   "name": "R",
   "pygments_lexer": "r",
   "version": "4.1.2"
  }
 },
 "nbformat": 4,
 "nbformat_minor": 5
}
